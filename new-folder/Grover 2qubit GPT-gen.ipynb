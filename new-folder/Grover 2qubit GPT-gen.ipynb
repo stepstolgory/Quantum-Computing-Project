{
 "cells": [
  {
   "cell_type": "code",
   "execution_count": 2,
   "id": "f784bf35-c2ff-4a4f-8132-01fcfd879a88",
   "metadata": {},
   "outputs": [
    {
     "name": "stdout",
     "output_type": "stream",
     "text": [
      "Figure(1039.79x284.278)\n",
      "\n",
      "Measurement Results: {'10': 1024}\n"
     ]
    }
   ],
   "source": [
    "# Import required Qiskit components and matplotlib for visualization\n",
    "from qiskit import QuantumCircuit, transpile, assemble\n",
    "from qiskit_aer import Aer\n",
    "from qiskit.visualization import plot_histogram\n",
    "import matplotlib.pyplot as plt\n",
    "import pylatexenc\n",
    "\n",
    "# Define the number of qubits. We have 2 qubits for our 4-item list.\n",
    "n_qubits = 2\n",
    "\n",
    "# Create a quantum circuit with 2 qubits and 2 classical bits (for measurement)\n",
    "qc = QuantumCircuit(n_qubits, n_qubits)\n",
    "\n",
    "# Step 1: Initialization\n",
    "# Apply Hadamard gates to all qubits to create the uniform superposition:\n",
    "#   |U> = 1/2 (|00> + |01> + |10> + |11>)\n",
    "qc.h(range(n_qubits))\n",
    "\n",
    "# Step 2: Oracle Construction\n",
    "# We want to mark the state |01> (the index corresponding to the number 7).\n",
    "# To do this:\n",
    "#   a. Apply an X gate to qubit 0 so that |01> becomes |11>.\n",
    "#   b. Apply a CZ gate which flips the phase of |11>.\n",
    "#   c. Apply an X gate again to qubit 0 to revert the mapping.\n",
    "qc.x(0)\n",
    "qc.cz(0, 1)\n",
    "qc.x(0)\n",
    "\n",
    "# At this point, the oracle O acts as:\n",
    "#   O|00> = |00>, O|01> = -|01>, O|10> = |10>, O|11> = |11>.\n",
    "\n",
    "# Step 3: Diffusion Operator (Inversion about the Mean)\n",
    "# The diffusion operator is given by:\n",
    "#   D = H⊗2 · (2|00><00| - I) · H⊗2.\n",
    "# For 2 qubits, this can be implemented as:\n",
    "qc.h(range(n_qubits))\n",
    "qc.x(range(n_qubits))\n",
    "qc.cz(0, 1)\n",
    "qc.x(range(n_qubits))\n",
    "qc.h(range(n_qubits))\n",
    "\n",
    "# Step 4: Measurement\n",
    "# Measure the qubits into the classical bits.\n",
    "qc.measure(range(n_qubits), range(n_qubits))\n",
    "\n",
    "# Draw the circuit\n",
    "print(qc.draw('mpl'))\n",
    "\n",
    "# Execute the circuit on the qasm_simulator\n",
    "simulator = Aer.get_backend('qasm_simulator')\n",
    "circuit = transpile(qc, simulator)\n",
    "job = simulator.run(qc, shots=1024)\n",
    "result = job.result()\n",
    "counts = result.get_counts(qc)\n",
    "\n",
    "# Print and plot the measurement results.\n",
    "print(\"\\nMeasurement Results:\", counts)\n",
    "plot_histogram(counts)\n",
    "plt.show()"
   ]
  },
  {
   "cell_type": "code",
   "execution_count": null,
   "id": "4d49036f-a536-4957-bd82-43f4a9a4576f",
   "metadata": {},
   "outputs": [],
   "source": []
  }
 ],
 "metadata": {
  "kernelspec": {
   "display_name": "Python 3 (ipykernel)",
   "language": "python",
   "name": "python3"
  },
  "language_info": {
   "codemirror_mode": {
    "name": "ipython",
    "version": 3
   },
   "file_extension": ".py",
   "mimetype": "text/x-python",
   "name": "python",
   "nbconvert_exporter": "python",
   "pygments_lexer": "ipython3",
   "version": "3.11.5"
  }
 },
 "nbformat": 4,
 "nbformat_minor": 5
}
